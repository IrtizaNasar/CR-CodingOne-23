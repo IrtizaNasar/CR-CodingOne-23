{
 "cells": [
  {
   "cell_type": "markdown",
   "id": "56f2dde8",
   "metadata": {},
   "source": [
    "# Python Fundamentals"
   ]
  },
  {
   "cell_type": "markdown",
   "id": "034ce2ab",
   "metadata": {},
   "source": [
    "## Comments"
   ]
  },
  {
   "cell_type": "markdown",
   "id": "612764e0",
   "metadata": {},
   "source": [
    "- Comments are pieces of text in a programming language that are not executed but are meant to provide additional information and context to understanding the logic and structure of code\n",
    "- In python the # character is used to denote a comment "
   ]
  },
  {
   "cell_type": "markdown",
   "id": "bbd0d502",
   "metadata": {},
   "source": [
    "## Variables "
   ]
  },
  {
   "cell_type": "markdown",
   "id": "26190ee6",
   "metadata": {},
   "source": [
    "- Every programming language has variables which a a method to store data that can be used by the program at different stages. \n",
    "- The data type stored in a variable can include a number, a string, a Boolean (true or false), a list or some other data type. \n",
    "- Every variable is assigned a name that can consists of numbers, letters and the underscore character.\n",
    "- A value is assigned to a variable using an  \"=\"  sign."
   ]
  },
  {
   "cell_type": "code",
   "execution_count": 2,
   "id": "12bbd4b7",
   "metadata": {},
   "outputs": [],
   "source": [
    "# These are all valid variable names and assignment\n",
    " \n",
    "user_name = \"irtiza\" # String \n",
    "user_id = 50 # Integer\n",
    "identity_confirmed = False # Boolean"
   ]
  },
  {
   "cell_type": "markdown",
   "id": "813a9bcf",
   "metadata": {},
   "source": [
    "- Now lets check the value assigned and see how it can be called back.\n",
    "\n",
    "- \"print(  )\" is a python function that is used to display an output to screen or to the console. It takes one or   more arguments and will output each of the arguments to the console separated by a space."
   ]
  },
  {
   "cell_type": "code",
   "execution_count": 3,
   "id": "c80b6b0a",
   "metadata": {},
   "outputs": [
    {
     "name": "stdout",
     "output_type": "stream",
     "text": [
      "irtiza\n"
     ]
    }
   ],
   "source": [
    "print(user_name) # In this case we are printing out the value of the variable \"user_name\""
   ]
  },
  {
   "cell_type": "markdown",
   "id": "0467bbf4",
   "metadata": {},
   "source": [
    "- The value of a variable can be reassigned at any point \n",
    "\n",
    "- Lets print the value of user_id"
   ]
  },
  {
   "cell_type": "code",
   "execution_count": 4,
   "id": "eeeff5b7",
   "metadata": {},
   "outputs": [
    {
     "name": "stdout",
     "output_type": "stream",
     "text": [
      "50\n"
     ]
    }
   ],
   "source": [
    "print(user_id)"
   ]
  },
  {
   "cell_type": "markdown",
   "id": "c0b6f913",
   "metadata": {},
   "source": [
    "- Now as we can see the value of the user_id is 50 we can reassign a new value to it\n",
    "- We now want the user_id to have a value of 100"
   ]
  },
  {
   "cell_type": "code",
   "execution_count": 5,
   "id": "28fedea7",
   "metadata": {},
   "outputs": [
    {
     "name": "stdout",
     "output_type": "stream",
     "text": [
      "100\n"
     ]
    }
   ],
   "source": [
    "user_id = 100 # Reassigning new value to variable.\n",
    "print(user_id) # Checking the newly assigned value and confirming it's replaced the old one."
   ]
  },
  {
   "cell_type": "markdown",
   "id": "910f3f74",
   "metadata": {},
   "source": [
    "## Strings"
   ]
  },
  {
   "cell_type": "markdown",
   "id": "2a722b57",
   "metadata": {},
   "source": [
    "- A string is a sequence of characters (could include numbers, letters, white space or punctuation) enclosed by doubble quotation marks \" \" or single ' '.\n",
    "- If a string has to be broken into multiple lines then a backslash character can be used \"\\\" to indicate that the string continues on the next line."
   ]
  },
  {
   "cell_type": "code",
   "execution_count": 11,
   "id": "880ad7cd",
   "metadata": {},
   "outputs": [],
   "source": [
    "name = \"John Doe\"\n",
    "sex = 'Male'\n",
    " \n",
    "longer_string = \"This string is broken up \\\n",
    "over multiple lines\""
   ]
  },
  {
   "cell_type": "code",
   "execution_count": 12,
   "id": "ac101ed7",
   "metadata": {},
   "outputs": [
    {
     "name": "stdout",
     "output_type": "stream",
     "text": [
      "This string is broken up over multiple lines\n"
     ]
    }
   ],
   "source": [
    "print(longer_string)"
   ]
  },
  {
   "cell_type": "markdown",
   "id": "1f54c53c",
   "metadata": {},
   "source": [
    "## Arthemetic Operations"
   ]
  },
  {
   "cell_type": "markdown",
   "id": "8700e932",
   "metadata": {},
   "source": [
    "Python supports differnet type of arthemetic operations that can be performed on varibales, numbers or a combination. The common one are as follows\n",
    "- ( + ) for addition\n",
    "- ( - ) for subtraction\n",
    "- ( * ) for multiplication\n",
    "- ( / ) for division\n",
    "- ( % ) for modulus (returns the remainder)\n",
    "- ( ** ) for exponentiation"
   ]
  },
  {
   "cell_type": "code",
   "execution_count": 13,
   "id": "f00df984",
   "metadata": {},
   "outputs": [],
   "source": [
    "addition = 5 + 10\n",
    "subtraction = 15 - 5\n",
    "multiply = 30 * 5\n",
    "divide = 16 / 4\n",
    "remainder = 25 % 2\n",
    "exponent  = 5 ** 2 # 5 to the power of 2"
   ]
  },
  {
   "cell_type": "markdown",
   "id": "e9ae83e8",
   "metadata": {},
   "source": [
    "## Data Types"
   ]
  },
  {
   "cell_type": "markdown",
   "id": "51ad1dde",
   "metadata": {},
   "source": [
    "A variable can store different types of data, and each type of data can perform different operations. The most common data types are:\n",
    "-\tString: Used to store text or characters.\n",
    "- Integer: Used to store whole numbers without decimal points.\n",
    "- Float: Used to store numbers with decimal points.\n",
    "- Boolean: Used to store either true or false values.\n",
    "\t\n",
    "To determine the type of an object, you can use the type( ) function. It will return the specific data type of the object you pass as an argument."
   ]
  },
  {
   "cell_type": "code",
   "execution_count": 2,
   "id": "cedb57a8",
   "metadata": {},
   "outputs": [
    {
     "name": "stdout",
     "output_type": "stream",
     "text": [
      "<class 'int'>\n"
     ]
    }
   ],
   "source": [
    "x = 7\n",
    "print(type(x))"
   ]
  },
  {
   "cell_type": "markdown",
   "id": "bf32f8ae",
   "metadata": {},
   "source": [
    "## Lists"
   ]
  },
  {
   "cell_type": "markdown",
   "id": "bb8f384f",
   "metadata": {},
   "source": [
    "- Lists are an ordered collection of items that allow for easily storing and retrival of data.\n",
    "- List values are places between square [ ] brackets, seperated by commas.\n",
    "- A good practice is to put space between the comma and the next value.\n",
    "- Same values can be repeated in a list.\n",
    "- You can also create an empty list and add values to it later using the append function."
   ]
  },
  {
   "cell_type": "code",
   "execution_count": 19,
   "id": "bfe0e52b",
   "metadata": {},
   "outputs": [
    {
     "name": "stdout",
     "output_type": "stream",
     "text": [
      "['Apple', 'Orange', 'Banana', 'Raspberry']\n"
     ]
    }
   ],
   "source": [
    "fruits = [\"Apple\", \"Orange\", \"Banana\", \"Raspberry\"] # Need to be stored as strings \n",
    "print(fruits)"
   ]
  },
  {
   "cell_type": "code",
   "execution_count": 20,
   "id": "38719e69",
   "metadata": {},
   "outputs": [
    {
     "name": "stdout",
     "output_type": "stream",
     "text": [
      "Banana\n"
     ]
    }
   ],
   "source": [
    "# Access the third item from the list \n",
    "# Count starts from 0 not 1 \n",
    "print(fruits[2])"
   ]
  },
  {
   "cell_type": "markdown",
   "id": "8ec1610c",
   "metadata": {},
   "source": [
    "### Append Function"
   ]
  },
  {
   "cell_type": "code",
   "execution_count": 22,
   "id": "56cb6968",
   "metadata": {},
   "outputs": [
    {
     "data": {
      "text/plain": [
       "['Apple', 'Orange', 'Banana', 'Raspberry']"
      ]
     },
     "execution_count": 22,
     "metadata": {},
     "output_type": "execute_result"
    }
   ],
   "source": [
    "fruits"
   ]
  },
  {
   "cell_type": "code",
   "execution_count": 23,
   "id": "2ab4e44a",
   "metadata": {},
   "outputs": [
    {
     "name": "stdout",
     "output_type": "stream",
     "text": [
      "['Apple', 'Orange', 'Banana', 'Raspberry', 'Strawberry']\n"
     ]
    }
   ],
   "source": [
    "# Now lets see how we append a value to an existing list or an empty list\n",
    "# Let's add  to this this existing list.\n",
    "\n",
    "fruits.append(\"Strawberry\") \n",
    "\n",
    "print(fruits) # Check if \"Strawberry\" is now added to our list "
   ]
  },
  {
   "cell_type": "markdown",
   "id": "c366869a",
   "metadata": {},
   "source": [
    "## Loops"
   ]
  },
  {
   "cell_type": "markdown",
   "id": "70681471",
   "metadata": {},
   "source": [
    "### For Loop"
   ]
  },
  {
   "cell_type": "markdown",
   "id": "2a51d625",
   "metadata": {},
   "source": [
    "- A python for loop can be used to iterate over a list of items or perform actions on each item.\n",
    "- Indentations are very important within all loops otherwise you may get an indentation error. "
   ]
  },
  {
   "cell_type": "code",
   "execution_count": 24,
   "id": "47887f60",
   "metadata": {
    "scrolled": true
   },
   "outputs": [
    {
     "name": "stdout",
     "output_type": "stream",
     "text": [
      "1\n",
      "2\n",
      "3\n",
      "4\n",
      "5\n"
     ]
    }
   ],
   "source": [
    "# Let's write an example for loop \n",
    "\n",
    "#each num in nums will be printed below\n",
    "numbers = [1,2,3,4,5] # A list of numbers \n",
    "\n",
    "for num in numbers: \n",
    "  print(num)\n",
    "\n",
    "# Format \n",
    "# for <temporary variable> in <list variable>:\n",
    "#   <action statement>\n",
    "#   <action statement>"
   ]
  },
  {
   "cell_type": "markdown",
   "id": "90b6d8ba",
   "metadata": {},
   "source": [
    "### While Loop"
   ]
  },
  {
   "cell_type": "markdown",
   "id": "c9850e14",
   "metadata": {},
   "source": [
    "- A while loop will repeatedly execute a code block until a condition is satisfied."
   ]
  },
  {
   "cell_type": "code",
   "execution_count": 31,
   "id": "8c7c7e72",
   "metadata": {},
   "outputs": [
    {
     "name": "stdout",
     "output_type": "stream",
     "text": [
      "1\n",
      "2\n",
      "3\n",
      "4\n",
      "5\n"
     ]
    }
   ],
   "source": [
    "# This loop will run five times until the condition is true\n",
    "\n",
    "i = 1\n",
    "while i < 6:\n",
    "  print(i)\n",
    "  i = i + 1"
   ]
  },
  {
   "cell_type": "markdown",
   "id": "b3b11a4b",
   "metadata": {},
   "source": [
    "### Nested Loops"
   ]
  },
  {
   "cell_type": "markdown",
   "id": "e7bb6f3f",
   "metadata": {},
   "source": [
    "- A nested loop is when a loop is placed within another loop.\n",
    "- Nested loops can be used to access items of lists which are inside other lists. The item selected from the outer loop can be used as the list for the inner loop to iterate over."
   ]
  },
  {
   "cell_type": "code",
   "execution_count": 1,
   "id": "8135f77e",
   "metadata": {},
   "outputs": [
    {
     "name": "stdout",
     "output_type": "stream",
     "text": [
      "inner loop\n",
      "Jobs\n",
      "inner loop\n",
      "Gates\n",
      "inner loop\n",
      "Newton\n",
      "inner loop\n",
      "Euclid\n",
      "inner loop\n",
      "Einstein\n",
      "inner loop\n",
      "Feynman\n"
     ]
    }
   ],
   "source": [
    "nested_list = [[\"Jobs\", \"Gates\"], [\"Newton\", \"Euclid\"], [\"Einstein\", \"Feynman\"]]\n",
    " \n",
    "# This outer loop will iterate over each list in the nested list\n",
    "for list in nested_list:\n",
    "  # This inner loop will go through each name in each list\n",
    "  for name in list:\n",
    "    print(name)"
   ]
  },
  {
   "cell_type": "markdown",
   "id": "f0d28f5b",
   "metadata": {},
   "source": [
    "# Exercise 1: Print First 10 natural numbers using while loop"
   ]
  },
  {
   "cell_type": "code",
   "execution_count": 57,
   "id": "68d6b17d",
   "metadata": {},
   "outputs": [],
   "source": [
    "# Expected Output\n",
    "\n",
    "# 1\n",
    "# 2\n",
    "# 3\n",
    "# 4\n",
    "# 5\n",
    "# 6\n",
    "# 7\n",
    "# 8\n",
    "# 9\n",
    "# 10"
   ]
  },
  {
   "cell_type": "code",
   "execution_count": 60,
   "id": "c2a54301",
   "metadata": {},
   "outputs": [],
   "source": [
    "# Solution"
   ]
  },
  {
   "cell_type": "markdown",
   "id": "7ff1fd4f",
   "metadata": {},
   "source": [
    "# Exercise 2: Print list in reverse order using a loop"
   ]
  },
  {
   "cell_type": "code",
   "execution_count": 62,
   "id": "366df74a",
   "metadata": {},
   "outputs": [],
   "source": [
    "# Given\n",
    "\n",
    "list1 = [10, 20, 30, 40, 50]\n",
    "# Hint: Look at the reversed function in Python"
   ]
  },
  {
   "cell_type": "code",
   "execution_count": 61,
   "id": "b09b0db2",
   "metadata": {},
   "outputs": [],
   "source": [
    "# Solution"
   ]
  },
  {
   "cell_type": "markdown",
   "id": "13663d4e",
   "metadata": {},
   "source": [
    "# Exercise 3: Write a for loop that iterates through a string and prints every letter."
   ]
  },
  {
   "cell_type": "code",
   "execution_count": 63,
   "id": "6c6ec1d9",
   "metadata": {},
   "outputs": [],
   "source": [
    "# Given\n",
    "\n",
    "str=\"London\""
   ]
  },
  {
   "cell_type": "code",
   "execution_count": 66,
   "id": "479ea7da",
   "metadata": {},
   "outputs": [],
   "source": [
    "# Solution"
   ]
  },
  {
   "cell_type": "markdown",
   "id": "0a705fb2",
   "metadata": {},
   "source": [
    "# Exercise 4: Using a for loop and .append() method to append each item in the list to a new list with a Dr. prefix added to each name."
   ]
  },
  {
   "cell_type": "code",
   "execution_count": 68,
   "id": "c027314f",
   "metadata": {},
   "outputs": [],
   "source": [
    "# Given\n",
    "\n",
    "list=[\"Phil\", \"Oz\", \"Seuss\", \"Dre\"]\n",
    "\n",
    "# Expected Output \n",
    "\n",
    "# new_list = [\"Dr. Phil\", \"Dr. Oz\"...]"
   ]
  },
  {
   "cell_type": "code",
   "execution_count": 69,
   "id": "7fc1fcff",
   "metadata": {},
   "outputs": [],
   "source": [
    "# Solution"
   ]
  },
  {
   "cell_type": "code",
   "execution_count": null,
   "id": "1095c1e8",
   "metadata": {},
   "outputs": [],
   "source": []
  }
 ],
 "metadata": {
  "kernelspec": {
   "display_name": "Python 3 (ipykernel)",
   "language": "python",
   "name": "python3"
  },
  "language_info": {
   "codemirror_mode": {
    "name": "ipython",
    "version": 3
   },
   "file_extension": ".py",
   "mimetype": "text/x-python",
   "name": "python",
   "nbconvert_exporter": "python",
   "pygments_lexer": "ipython3",
   "version": "3.8.13"
  }
 },
 "nbformat": 4,
 "nbformat_minor": 5
}
