{
 "cells": [
  {
   "cell_type": "markdown",
   "id": "56f2dde8",
   "metadata": {},
   "source": [
    "# Python Fundamentals"
   ]
  },
  {
   "cell_type": "markdown",
   "id": "88cb75b6",
   "metadata": {},
   "source": [
    "## Conditional Statments"
   ]
  },
  {
   "cell_type": "markdown",
   "id": "f6278d06",
   "metadata": {},
   "source": [
    "Python support a number of logical conditions such as \n",
    "- Equals: a == b\n",
    "- Not Equals: a != b\n",
    "- Less than: a < b\n",
    "- Less than or equal to: a <= b\n",
    "- Greater than: a > b\n",
    "- Greater than or equal to: a >= b\n",
    "\n",
    "These conditions can be used in a number of way most commonly in if statments and loops."
   ]
  },
  {
   "cell_type": "markdown",
   "id": "dd597d8b",
   "metadata": {},
   "source": [
    "### If Statment"
   ]
  },
  {
   "cell_type": "code",
   "execution_count": 36,
   "id": "76ecdb1c",
   "metadata": {},
   "outputs": [
    {
     "name": "stdout",
     "output_type": "stream",
     "text": [
      "a is greater than b\n"
     ]
    }
   ],
   "source": [
    "# If statment \n",
    "\n",
    "a = 20\n",
    "b = 10\n",
    "\n",
    "if a > b:\n",
    "    print(\"a is greater than b\")\n",
    "    "
   ]
  },
  {
   "cell_type": "markdown",
   "id": "6982c4d2",
   "metadata": {},
   "source": [
    "### Elif "
   ]
  },
  {
   "cell_type": "markdown",
   "id": "89e681bc",
   "metadata": {},
   "source": [
    "- Elif is a way of stating that if the previous condition was not fulfilled then try this condition"
   ]
  },
  {
   "cell_type": "code",
   "execution_count": 37,
   "id": "960766c4",
   "metadata": {},
   "outputs": [
    {
     "name": "stdout",
     "output_type": "stream",
     "text": [
      "a and b are equal\n"
     ]
    }
   ],
   "source": [
    "a = 20\n",
    "b = 20\n",
    "\n",
    "if a > b:\n",
    "    print(\"a is greater than b\")\n",
    "elif a == b:\n",
    "    print(\"a and b are equal\")"
   ]
  },
  {
   "cell_type": "markdown",
   "id": "bb635248",
   "metadata": {},
   "source": [
    "### Else"
   ]
  },
  {
   "cell_type": "markdown",
   "id": "668f0988",
   "metadata": {},
   "source": [
    "- The else keyword catches anything which isn't caught by the preceding conditions."
   ]
  },
  {
   "cell_type": "code",
   "execution_count": 49,
   "id": "2af82a2a",
   "metadata": {},
   "outputs": [
    {
     "name": "stdout",
     "output_type": "stream",
     "text": [
      "a is greater than b\n"
     ]
    }
   ],
   "source": [
    "a = 200\n",
    "b = 33\n",
    "\n",
    "if b > a:\n",
    "  print(\"b is greater than a\")\n",
    "elif a == b:\n",
    "  print(\"a and b are equal\")\n",
    "else:\n",
    "  print(\"a is greater than b\")"
   ]
  },
  {
   "cell_type": "markdown",
   "id": "c57ed05c",
   "metadata": {},
   "source": [
    "## Len Function"
   ]
  },
  {
   "cell_type": "code",
   "execution_count": 52,
   "id": "3a5c401f",
   "metadata": {},
   "outputs": [
    {
     "name": "stdout",
     "output_type": "stream",
     "text": [
      "Length of fruits = 4\n"
     ]
    }
   ],
   "source": [
    "fruits = [\"Apple\", \"Orange\", \"Banana\", \"Raspberry\"] \n",
    "\n",
    "print(\"Length of fruits =\", len(fruits))"
   ]
  },
  {
   "cell_type": "code",
   "execution_count": 53,
   "id": "91b91d47",
   "metadata": {},
   "outputs": [
    {
     "name": "stdout",
     "output_type": "stream",
     "text": [
      "0 Apple\n",
      "1 Orange\n",
      "2 Banana\n",
      "3 Raspberry\n"
     ]
    }
   ],
   "source": [
    "i = 0\n",
    "while i < len(fruits):\n",
    "    print(i, fruits[i])\n",
    "    i = i+1"
   ]
  },
  {
   "cell_type": "code",
   "execution_count": 55,
   "id": "f768bca0",
   "metadata": {},
   "outputs": [
    {
     "name": "stdout",
     "output_type": "stream",
     "text": [
      "1 Orange\n",
      "2 Banana\n",
      "3 Raspberry\n"
     ]
    },
    {
     "ename": "IndexError",
     "evalue": "list index out of range",
     "output_type": "error",
     "traceback": [
      "\u001b[0;31m---------------------------------------------------------------------------\u001b[0m",
      "\u001b[0;31mIndexError\u001b[0m                                Traceback (most recent call last)",
      "\u001b[0;32m/var/folders/4l/xm5jn32j517d842_nfd4nvymkgphp6/T/ipykernel_95361/4127563813.py\u001b[0m in \u001b[0;36m<module>\u001b[0;34m\u001b[0m\n\u001b[1;32m      3\u001b[0m \u001b[0;32mwhile\u001b[0m \u001b[0mi\u001b[0m \u001b[0;34m<\u001b[0m \u001b[0mlen\u001b[0m\u001b[0;34m(\u001b[0m\u001b[0mfruits\u001b[0m\u001b[0;34m)\u001b[0m\u001b[0;34m:\u001b[0m\u001b[0;34m\u001b[0m\u001b[0;34m\u001b[0m\u001b[0m\n\u001b[1;32m      4\u001b[0m     \u001b[0mi\u001b[0m \u001b[0;34m=\u001b[0m \u001b[0mi\u001b[0m\u001b[0;34m+\u001b[0m\u001b[0;36m1\u001b[0m\u001b[0;34m\u001b[0m\u001b[0;34m\u001b[0m\u001b[0m\n\u001b[0;32m----> 5\u001b[0;31m     \u001b[0mprint\u001b[0m\u001b[0;34m(\u001b[0m\u001b[0mi\u001b[0m\u001b[0;34m,\u001b[0m \u001b[0mfruits\u001b[0m\u001b[0;34m[\u001b[0m\u001b[0mi\u001b[0m\u001b[0;34m]\u001b[0m\u001b[0;34m)\u001b[0m\u001b[0;34m\u001b[0m\u001b[0;34m\u001b[0m\u001b[0m\n\u001b[0m",
      "\u001b[0;31mIndexError\u001b[0m: list index out of range"
     ]
    }
   ],
   "source": [
    "# Common Error: if i is incremneted before print statment then within the print statment it'll be 1 instead of 0\n",
    "i = 0\n",
    "while i < len(fruits):\n",
    "    i = i+1\n",
    "    print(i, fruits[i])  "
   ]
  },
  {
   "cell_type": "markdown",
   "id": "4009ac60",
   "metadata": {},
   "source": [
    "## Declaring Functions"
   ]
  },
  {
   "cell_type": "markdown",
   "id": "fb5d0a73",
   "metadata": {},
   "source": [
    "A function is a block of code that is only run when it is called. "
   ]
  },
  {
   "cell_type": "code",
   "execution_count": 41,
   "id": "2b651519",
   "metadata": {},
   "outputs": [],
   "source": [
    "def my_function(name):\n",
    "  print(name + \" is an A grade student\")"
   ]
  },
  {
   "cell_type": "code",
   "execution_count": 39,
   "id": "b92b138e",
   "metadata": {},
   "outputs": [
    {
     "name": "stdout",
     "output_type": "stream",
     "text": [
      "Emil is an A grade student\n",
      "Tobias is an A grade student\n",
      "Linus is an A grade student\n"
     ]
    }
   ],
   "source": [
    "my_function(\"Emil\")\n",
    "my_function(\"Tobias\")\n",
    "my_function(\"Linus\")"
   ]
  },
  {
   "cell_type": "markdown",
   "id": "660464a7",
   "metadata": {},
   "source": [
    "## User Input "
   ]
  },
  {
   "cell_type": "markdown",
   "id": "bc0c5c94",
   "metadata": {},
   "source": [
    "As the name implies this method is used to get input from the user."
   ]
  },
  {
   "cell_type": "code",
   "execution_count": 43,
   "id": "3622502f",
   "metadata": {},
   "outputs": [
    {
     "name": "stdout",
     "output_type": "stream",
     "text": [
      "Enter username:Jia\n"
     ]
    }
   ],
   "source": [
    "# This take the input from user and stores it in the varibale username \n",
    "username = input(\"Enter username:\")"
   ]
  },
  {
   "cell_type": "code",
   "execution_count": 44,
   "id": "346756c2",
   "metadata": {},
   "outputs": [
    {
     "data": {
      "text/plain": [
       "'Jia'"
      ]
     },
     "execution_count": 44,
     "metadata": {},
     "output_type": "execute_result"
    }
   ],
   "source": [
    "# Let's now check if the user input has been stored in the variable\n",
    "username"
   ]
  },
  {
   "cell_type": "markdown",
   "id": "557f6cf7",
   "metadata": {},
   "source": [
    " "
   ]
  },
  {
   "cell_type": "markdown",
   "id": "f0d28f5b",
   "metadata": {},
   "source": [
    "# Exercise 1: Print First 10 natural numbers using while loop"
   ]
  },
  {
   "cell_type": "code",
   "execution_count": 57,
   "id": "68d6b17d",
   "metadata": {},
   "outputs": [],
   "source": [
    "# Expected Output\n",
    "\n",
    "# 1\n",
    "# 2\n",
    "# 3\n",
    "# 4\n",
    "# 5\n",
    "# 6\n",
    "# 7\n",
    "# 8\n",
    "# 9\n",
    "# 10"
   ]
  },
  {
   "cell_type": "code",
   "execution_count": 60,
   "id": "c2a54301",
   "metadata": {},
   "outputs": [],
   "source": [
    "# Solution"
   ]
  },
  {
   "cell_type": "markdown",
   "id": "7ff1fd4f",
   "metadata": {},
   "source": [
    "# Exercise 2: Print list in reverse order using a loop"
   ]
  },
  {
   "cell_type": "code",
   "execution_count": 62,
   "id": "366df74a",
   "metadata": {},
   "outputs": [],
   "source": [
    "# Given\n",
    "\n",
    "list1 = [10, 20, 30, 40, 50]\n",
    "# Hint: Look at the reversed function in Python"
   ]
  },
  {
   "cell_type": "code",
   "execution_count": 61,
   "id": "b09b0db2",
   "metadata": {},
   "outputs": [],
   "source": [
    "# Solution"
   ]
  },
  {
   "cell_type": "markdown",
   "id": "13663d4e",
   "metadata": {},
   "source": [
    "# Exercise 3: Write a for loop that iterates through a string and prints every letter."
   ]
  },
  {
   "cell_type": "code",
   "execution_count": 63,
   "id": "6c6ec1d9",
   "metadata": {},
   "outputs": [],
   "source": [
    "# Given\n",
    "\n",
    "str=\"London\""
   ]
  },
  {
   "cell_type": "code",
   "execution_count": 66,
   "id": "479ea7da",
   "metadata": {},
   "outputs": [],
   "source": [
    "# Solution"
   ]
  },
  {
   "cell_type": "markdown",
   "id": "0a705fb2",
   "metadata": {},
   "source": [
    "# Exercise 4: Using a for loop and .append() method to append each item in the list to a new list with a Dr. prefix added to each name."
   ]
  },
  {
   "cell_type": "code",
   "execution_count": 68,
   "id": "c027314f",
   "metadata": {},
   "outputs": [],
   "source": [
    "# Given\n",
    "\n",
    "list=[\"Phil\", \"Oz\", \"Seuss\", \"Dre\"]\n",
    "\n",
    "# Expected Output \n",
    "\n",
    "# list = [\"Dr. Phil\", \"Dr. Oz\"...]"
   ]
  },
  {
   "cell_type": "code",
   "execution_count": 69,
   "id": "7fc1fcff",
   "metadata": {},
   "outputs": [],
   "source": [
    "# Solution"
   ]
  },
  {
   "cell_type": "code",
   "execution_count": null,
   "id": "1095c1e8",
   "metadata": {},
   "outputs": [],
   "source": []
  }
 ],
 "metadata": {
  "kernelspec": {
   "display_name": "Python 3 (ipykernel)",
   "language": "python",
   "name": "python3"
  },
  "language_info": {
   "codemirror_mode": {
    "name": "ipython",
    "version": 3
   },
   "file_extension": ".py",
   "mimetype": "text/x-python",
   "name": "python",
   "nbconvert_exporter": "python",
   "pygments_lexer": "ipython3",
   "version": "3.8.13"
  }
 },
 "nbformat": 4,
 "nbformat_minor": 5
}
